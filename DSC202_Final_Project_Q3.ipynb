{
 "cells": [
  {
   "cell_type": "markdown",
   "id": "12883922",
   "metadata": {
    "run_control": {
     "marked": true
    }
   },
   "source": [
    "# Environment Setup"
   ]
  },
  {
   "cell_type": "code",
   "execution_count": 3,
   "id": "abfc4261",
   "metadata": {
    "ExecuteTime": {
     "end_time": "2023-12-11T19:37:06.467898Z",
     "start_time": "2023-12-11T19:37:06.380663Z"
    }
   },
   "outputs": [],
   "source": [
    "import os\n",
    "from neo4j import GraphDatabase, basic_auth\n",
    "import warnings\n",
    "warnings.filterwarnings('ignore')"
   ]
  },
  {
   "cell_type": "code",
   "execution_count": 201,
   "id": "aa445d11",
   "metadata": {
    "ExecuteTime": {
     "end_time": "2023-12-12T17:43:47.387106Z",
     "start_time": "2023-12-12T17:43:47.373544Z"
    }
   },
   "outputs": [],
   "source": [
    "uri = \"neo4j://localhost:7687\"\n",
    "driver = GraphDatabase.driver(uri, auth=(\"neo4j\", \"your_password\"))\n",
    "session =  driver.session()"
   ]
  },
  {
   "cell_type": "markdown",
   "id": "5847a8aa",
   "metadata": {},
   "source": [
    "# Load Datasets"
   ]
  },
  {
   "cell_type": "code",
   "execution_count": 45,
   "id": "9e3148fc",
   "metadata": {
    "ExecuteTime": {
     "end_time": "2023-12-12T02:16:55.479995Z",
     "start_time": "2023-12-12T02:16:55.474666Z"
    }
   },
   "outputs": [],
   "source": [
    "import pandas as pd\n",
    "import numpy as np\n",
    "\n",
    "import requests\n",
    "from bs4 import BeautifulSoup\n",
    "from tqdm import tqdm\n",
    "import time\n",
    "\n",
    "pd.set_option('display.max_rows', 10)\n",
    "pd.set_option('display.max_columns', None)"
   ]
  },
  {
   "cell_type": "code",
   "execution_count": 191,
   "id": "4e4369bd",
   "metadata": {
    "ExecuteTime": {
     "end_time": "2023-12-12T07:54:02.419240Z",
     "start_time": "2023-12-12T07:54:02.358525Z"
    }
   },
   "outputs": [],
   "source": [
    "# Datasets loading csv\n",
    "job_posting_glassdoor = pd.read_csv(\"Cleaned_DS_Jobs.csv\")"
   ]
  },
  {
   "cell_type": "code",
   "execution_count": 26,
   "id": "005f26a6",
   "metadata": {
    "ExecuteTime": {
     "end_time": "2023-12-12T02:00:31.011654Z",
     "start_time": "2023-12-12T01:00:36.837922Z"
    }
   },
   "outputs": [
    {
     "name": "stderr",
     "output_type": "stream",
     "text": [
      "Scraping Pages: 100%|██████████████████| 1597/1597 [59:54<00:00,  2.25s/it]\n"
     ]
    }
   ],
   "source": [
    "if os.path.exists(directory_path):\n",
    "    print(\"Detect sponsorship company lists datasets\")\n",
    "else:\n",
    "    # 2023 sponsorship datasets\n",
    "    company_names = []\n",
    "    total_iterations = 1597\n",
    "\n",
    "    for page_number in tqdm(range(1, total_iterations + 1), desc=\"Scraping Pages\"):\n",
    "        url = f'https://h1binfo.org/top/sponsors/2023?page={page_number}'\n",
    "        response = requests.get(url)\n",
    "\n",
    "        if response.status_code == 200:\n",
    "            soup = BeautifulSoup(response.text, 'html.parser')\n",
    "            company_links = soup.find_all('a', class_='font-semibold text-blue-500 capitalize')\n",
    "            company_names.extend([link.get_text().strip() for link in company_links])\n",
    "        else:\n",
    "            print(f\"Failed to retrieve data from page {page_number}\")\n",
    "\n",
    "        time.sleep(2)"
   ]
  },
  {
   "cell_type": "code",
   "execution_count": 82,
   "id": "f3a95b19",
   "metadata": {
    "ExecuteTime": {
     "end_time": "2023-12-12T03:00:32.503505Z",
     "start_time": "2023-12-12T03:00:32.497830Z"
    }
   },
   "outputs": [
    {
     "data": {
      "text/plain": [
       "31912"
      ]
     },
     "execution_count": 82,
     "metadata": {},
     "output_type": "execute_result"
    }
   ],
   "source": [
    "len(company_names)"
   ]
  },
  {
   "cell_type": "code",
   "execution_count": 34,
   "id": "846f6bb8",
   "metadata": {
    "ExecuteTime": {
     "end_time": "2023-12-12T02:09:23.133720Z",
     "start_time": "2023-12-12T02:09:23.058885Z"
    }
   },
   "outputs": [],
   "source": [
    "# export to csv\n",
    "# convert to pandas dataframe\n",
    "# export to csv\n",
    "\n",
    "company_name_sponsorship = pd.DataFrame(company_names)\n",
    "company_name_sponsorship.colunams  = ['company_name']\n",
    "company_name_sponsorship.to_csv('company_sponsorship.csv', sep='\\t')"
   ]
  },
  {
   "cell_type": "markdown",
   "id": "e804216e",
   "metadata": {},
   "source": [
    "# Data Preprocessing"
   ]
  },
  {
   "cell_type": "code",
   "execution_count": null,
   "id": "193dea02",
   "metadata": {},
   "outputs": [],
   "source": [
    "job_posting_glassdoor"
   ]
  },
  {
   "cell_type": "code",
   "execution_count": 192,
   "id": "68734bf4",
   "metadata": {
    "ExecuteTime": {
     "end_time": "2023-12-12T07:54:04.487083Z",
     "start_time": "2023-12-12T07:54:04.448596Z"
    }
   },
   "outputs": [
    {
     "data": {
      "text/html": [
       "<div>\n",
       "<style scoped>\n",
       "    .dataframe tbody tr th:only-of-type {\n",
       "        vertical-align: middle;\n",
       "    }\n",
       "\n",
       "    .dataframe tbody tr th {\n",
       "        vertical-align: top;\n",
       "    }\n",
       "\n",
       "    .dataframe thead th {\n",
       "        text-align: right;\n",
       "    }\n",
       "</style>\n",
       "<table border=\"1\" class=\"dataframe\">\n",
       "  <thead>\n",
       "    <tr style=\"text-align: right;\">\n",
       "      <th></th>\n",
       "      <th>Job Title</th>\n",
       "      <th>Salary Estimate</th>\n",
       "      <th>Job Description</th>\n",
       "      <th>Rating</th>\n",
       "      <th>Company Name</th>\n",
       "      <th>Location</th>\n",
       "      <th>Headquarters</th>\n",
       "      <th>Size</th>\n",
       "      <th>Type of ownership</th>\n",
       "      <th>Industry</th>\n",
       "      <th>Sector</th>\n",
       "      <th>Revenue</th>\n",
       "      <th>min_salary</th>\n",
       "      <th>max_salary</th>\n",
       "      <th>avg_salary</th>\n",
       "      <th>job_state</th>\n",
       "      <th>same_state</th>\n",
       "      <th>company_age</th>\n",
       "      <th>python</th>\n",
       "      <th>excel</th>\n",
       "      <th>hadoop</th>\n",
       "      <th>spark</th>\n",
       "      <th>aws</th>\n",
       "      <th>tableau</th>\n",
       "      <th>big_data</th>\n",
       "      <th>job_simp</th>\n",
       "      <th>seniority</th>\n",
       "    </tr>\n",
       "  </thead>\n",
       "  <tbody>\n",
       "    <tr>\n",
       "      <th>0</th>\n",
       "      <td>Sr Data Scientist</td>\n",
       "      <td>137-171</td>\n",
       "      <td>Description\\n\\nThe Senior Data Scientist is re...</td>\n",
       "      <td>3.1</td>\n",
       "      <td>Healthfirst</td>\n",
       "      <td>New York, NY</td>\n",
       "      <td>New York, NY</td>\n",
       "      <td>1001 to 5000 employees</td>\n",
       "      <td>Nonprofit Organization</td>\n",
       "      <td>Insurance Carriers</td>\n",
       "      <td>Insurance</td>\n",
       "      <td>Unknown / Non-Applicable</td>\n",
       "      <td>137</td>\n",
       "      <td>171</td>\n",
       "      <td>154</td>\n",
       "      <td>NY</td>\n",
       "      <td>1</td>\n",
       "      <td>27</td>\n",
       "      <td>0</td>\n",
       "      <td>0</td>\n",
       "      <td>0</td>\n",
       "      <td>0</td>\n",
       "      <td>1</td>\n",
       "      <td>0</td>\n",
       "      <td>0</td>\n",
       "      <td>data scientist</td>\n",
       "      <td>senior</td>\n",
       "    </tr>\n",
       "    <tr>\n",
       "      <th>1</th>\n",
       "      <td>Data Scientist</td>\n",
       "      <td>137-171</td>\n",
       "      <td>Secure our Nation, Ignite your Future\\n\\nJoin ...</td>\n",
       "      <td>4.2</td>\n",
       "      <td>ManTech</td>\n",
       "      <td>Chantilly, VA</td>\n",
       "      <td>Herndon, VA</td>\n",
       "      <td>5001 to 10000 employees</td>\n",
       "      <td>Company - Public</td>\n",
       "      <td>Research &amp; Development</td>\n",
       "      <td>Business Services</td>\n",
       "      <td>$1 to $2 billion (USD)</td>\n",
       "      <td>137</td>\n",
       "      <td>171</td>\n",
       "      <td>154</td>\n",
       "      <td>VA</td>\n",
       "      <td>0</td>\n",
       "      <td>52</td>\n",
       "      <td>0</td>\n",
       "      <td>0</td>\n",
       "      <td>1</td>\n",
       "      <td>0</td>\n",
       "      <td>0</td>\n",
       "      <td>0</td>\n",
       "      <td>1</td>\n",
       "      <td>data scientist</td>\n",
       "      <td>na</td>\n",
       "    </tr>\n",
       "    <tr>\n",
       "      <th>2</th>\n",
       "      <td>Data Scientist</td>\n",
       "      <td>137-171</td>\n",
       "      <td>Overview\\n\\n\\nAnalysis Group is one of the lar...</td>\n",
       "      <td>3.8</td>\n",
       "      <td>Analysis Group</td>\n",
       "      <td>Boston, MA</td>\n",
       "      <td>Boston, MA</td>\n",
       "      <td>1001 to 5000 employees</td>\n",
       "      <td>Private Practice / Firm</td>\n",
       "      <td>Consulting</td>\n",
       "      <td>Business Services</td>\n",
       "      <td>$100 to $500 million (USD)</td>\n",
       "      <td>137</td>\n",
       "      <td>171</td>\n",
       "      <td>154</td>\n",
       "      <td>MA</td>\n",
       "      <td>1</td>\n",
       "      <td>39</td>\n",
       "      <td>1</td>\n",
       "      <td>1</td>\n",
       "      <td>0</td>\n",
       "      <td>0</td>\n",
       "      <td>1</td>\n",
       "      <td>0</td>\n",
       "      <td>0</td>\n",
       "      <td>data scientist</td>\n",
       "      <td>na</td>\n",
       "    </tr>\n",
       "    <tr>\n",
       "      <th>3</th>\n",
       "      <td>Data Scientist</td>\n",
       "      <td>137-171</td>\n",
       "      <td>JOB DESCRIPTION:\\n\\nDo you have a passion for ...</td>\n",
       "      <td>3.5</td>\n",
       "      <td>INFICON</td>\n",
       "      <td>Newton, MA</td>\n",
       "      <td>Bad Ragaz, Switzerland</td>\n",
       "      <td>501 to 1000 employees</td>\n",
       "      <td>Company - Public</td>\n",
       "      <td>Electrical &amp; Electronic Manufacturing</td>\n",
       "      <td>Manufacturing</td>\n",
       "      <td>$100 to $500 million (USD)</td>\n",
       "      <td>137</td>\n",
       "      <td>171</td>\n",
       "      <td>154</td>\n",
       "      <td>MA</td>\n",
       "      <td>0</td>\n",
       "      <td>20</td>\n",
       "      <td>1</td>\n",
       "      <td>1</td>\n",
       "      <td>0</td>\n",
       "      <td>0</td>\n",
       "      <td>1</td>\n",
       "      <td>0</td>\n",
       "      <td>0</td>\n",
       "      <td>data scientist</td>\n",
       "      <td>na</td>\n",
       "    </tr>\n",
       "    <tr>\n",
       "      <th>4</th>\n",
       "      <td>Data Scientist</td>\n",
       "      <td>137-171</td>\n",
       "      <td>Data Scientist\\nAffinity Solutions / Marketing...</td>\n",
       "      <td>2.9</td>\n",
       "      <td>Affinity Solutions</td>\n",
       "      <td>New York, NY</td>\n",
       "      <td>New York, NY</td>\n",
       "      <td>51 to 200 employees</td>\n",
       "      <td>Company - Private</td>\n",
       "      <td>Advertising &amp; Marketing</td>\n",
       "      <td>Business Services</td>\n",
       "      <td>Unknown / Non-Applicable</td>\n",
       "      <td>137</td>\n",
       "      <td>171</td>\n",
       "      <td>154</td>\n",
       "      <td>NY</td>\n",
       "      <td>1</td>\n",
       "      <td>22</td>\n",
       "      <td>1</td>\n",
       "      <td>1</td>\n",
       "      <td>0</td>\n",
       "      <td>0</td>\n",
       "      <td>0</td>\n",
       "      <td>0</td>\n",
       "      <td>0</td>\n",
       "      <td>data scientist</td>\n",
       "      <td>na</td>\n",
       "    </tr>\n",
       "  </tbody>\n",
       "</table>\n",
       "</div>"
      ],
      "text/plain": [
       "           Job Title Salary Estimate  \\\n",
       "0  Sr Data Scientist        137-171    \n",
       "1     Data Scientist        137-171    \n",
       "2     Data Scientist        137-171    \n",
       "3     Data Scientist        137-171    \n",
       "4     Data Scientist        137-171    \n",
       "\n",
       "                                     Job Description  Rating  \\\n",
       "0  Description\\n\\nThe Senior Data Scientist is re...     3.1   \n",
       "1  Secure our Nation, Ignite your Future\\n\\nJoin ...     4.2   \n",
       "2  Overview\\n\\n\\nAnalysis Group is one of the lar...     3.8   \n",
       "3  JOB DESCRIPTION:\\n\\nDo you have a passion for ...     3.5   \n",
       "4  Data Scientist\\nAffinity Solutions / Marketing...     2.9   \n",
       "\n",
       "         Company Name       Location            Headquarters  \\\n",
       "0         Healthfirst   New York, NY            New York, NY   \n",
       "1             ManTech  Chantilly, VA             Herndon, VA   \n",
       "2      Analysis Group     Boston, MA              Boston, MA   \n",
       "3             INFICON     Newton, MA  Bad Ragaz, Switzerland   \n",
       "4  Affinity Solutions   New York, NY            New York, NY   \n",
       "\n",
       "                      Size        Type of ownership  \\\n",
       "0   1001 to 5000 employees   Nonprofit Organization   \n",
       "1  5001 to 10000 employees         Company - Public   \n",
       "2   1001 to 5000 employees  Private Practice / Firm   \n",
       "3    501 to 1000 employees         Company - Public   \n",
       "4      51 to 200 employees        Company - Private   \n",
       "\n",
       "                                Industry             Sector  \\\n",
       "0                     Insurance Carriers          Insurance   \n",
       "1                 Research & Development  Business Services   \n",
       "2                             Consulting  Business Services   \n",
       "3  Electrical & Electronic Manufacturing      Manufacturing   \n",
       "4                Advertising & Marketing  Business Services   \n",
       "\n",
       "                      Revenue  min_salary  max_salary  avg_salary job_state  \\\n",
       "0    Unknown / Non-Applicable         137         171         154        NY   \n",
       "1      $1 to $2 billion (USD)         137         171         154        VA   \n",
       "2  $100 to $500 million (USD)         137         171         154        MA   \n",
       "3  $100 to $500 million (USD)         137         171         154        MA   \n",
       "4    Unknown / Non-Applicable         137         171         154        NY   \n",
       "\n",
       "   same_state  company_age  python  excel  hadoop  spark  aws  tableau  \\\n",
       "0           1           27       0      0       0      0    1        0   \n",
       "1           0           52       0      0       1      0    0        0   \n",
       "2           1           39       1      1       0      0    1        0   \n",
       "3           0           20       1      1       0      0    1        0   \n",
       "4           1           22       1      1       0      0    0        0   \n",
       "\n",
       "   big_data        job_simp seniority  \n",
       "0         0  data scientist    senior  \n",
       "1         1  data scientist        na  \n",
       "2         0  data scientist        na  \n",
       "3         0  data scientist        na  \n",
       "4         0  data scientist        na  "
      ]
     },
     "execution_count": 192,
     "metadata": {},
     "output_type": "execute_result"
    }
   ],
   "source": [
    "job_posting_glassdoor.head()"
   ]
  },
  {
   "cell_type": "code",
   "execution_count": 193,
   "id": "99651a4f",
   "metadata": {
    "ExecuteTime": {
     "end_time": "2023-12-12T07:54:06.975014Z",
     "start_time": "2023-12-12T07:54:06.017596Z"
    }
   },
   "outputs": [],
   "source": [
    "# Check sponsorship\n",
    "def SponsorCheck(row):\n",
    "    for company in company_names: \n",
    "        if row.lower() in company:\n",
    "            return 'YES'\n",
    "    return 'NO'\n",
    "\n",
    "job_posting_glassdoor['Sponsorship'] = job_posting_glassdoor['Company Name'].apply(SponsorCheck)"
   ]
  },
  {
   "cell_type": "code",
   "execution_count": 194,
   "id": "82853d07",
   "metadata": {
    "ExecuteTime": {
     "end_time": "2023-12-12T07:54:08.197469Z",
     "start_time": "2023-12-12T07:54:08.192758Z"
    }
   },
   "outputs": [],
   "source": [
    "job_posting_glassdoor.columns = job_posting_glassdoor.columns.str.replace(' ', '_').str.lower()"
   ]
  },
  {
   "cell_type": "code",
   "execution_count": 195,
   "id": "deb191d1",
   "metadata": {
    "ExecuteTime": {
     "end_time": "2023-12-12T07:54:09.471242Z",
     "start_time": "2023-12-12T07:54:09.466317Z"
    }
   },
   "outputs": [
    {
     "data": {
      "text/plain": [
       "Index(['job_title', 'salary_estimate', 'job_description', 'rating',\n",
       "       'company_name', 'location', 'headquarters', 'size', 'type_of_ownership',\n",
       "       'industry', 'sector', 'revenue', 'min_salary', 'max_salary',\n",
       "       'avg_salary', 'job_state', 'same_state', 'company_age', 'python',\n",
       "       'excel', 'hadoop', 'spark', 'aws', 'tableau', 'big_data', 'job_simp',\n",
       "       'seniority', 'sponsorship'],\n",
       "      dtype='object')"
      ]
     },
     "execution_count": 195,
     "metadata": {},
     "output_type": "execute_result"
    }
   ],
   "source": [
    "job_posting_glassdoor.columns"
   ]
  },
  {
   "cell_type": "code",
   "execution_count": 196,
   "id": "c24059a8",
   "metadata": {
    "ExecuteTime": {
     "end_time": "2023-12-12T07:54:11.113810Z",
     "start_time": "2023-12-12T07:54:11.105643Z"
    }
   },
   "outputs": [],
   "source": [
    "output = job_posting_glassdoor[['job_title', 'rating', 'company_name', 'location', 'headquarters',\n",
    "                               'type_of_ownership', 'industry', 'size', 'sector', 'company_age', \n",
    "                              'sponsorship']]"
   ]
  },
  {
   "cell_type": "code",
   "execution_count": 197,
   "id": "9e5cd620",
   "metadata": {
    "ExecuteTime": {
     "end_time": "2023-12-12T07:54:12.604245Z",
     "start_time": "2023-12-12T07:54:12.590831Z"
    }
   },
   "outputs": [
    {
     "data": {
      "text/html": [
       "<div>\n",
       "<style scoped>\n",
       "    .dataframe tbody tr th:only-of-type {\n",
       "        vertical-align: middle;\n",
       "    }\n",
       "\n",
       "    .dataframe tbody tr th {\n",
       "        vertical-align: top;\n",
       "    }\n",
       "\n",
       "    .dataframe thead th {\n",
       "        text-align: right;\n",
       "    }\n",
       "</style>\n",
       "<table border=\"1\" class=\"dataframe\">\n",
       "  <thead>\n",
       "    <tr style=\"text-align: right;\">\n",
       "      <th></th>\n",
       "      <th>job_title</th>\n",
       "      <th>rating</th>\n",
       "      <th>company_name</th>\n",
       "      <th>location</th>\n",
       "      <th>headquarters</th>\n",
       "      <th>type_of_ownership</th>\n",
       "      <th>industry</th>\n",
       "      <th>size</th>\n",
       "      <th>sector</th>\n",
       "      <th>company_age</th>\n",
       "      <th>sponsorship</th>\n",
       "    </tr>\n",
       "  </thead>\n",
       "  <tbody>\n",
       "    <tr>\n",
       "      <th>0</th>\n",
       "      <td>Sr Data Scientist</td>\n",
       "      <td>3.1</td>\n",
       "      <td>Healthfirst</td>\n",
       "      <td>New York, NY</td>\n",
       "      <td>New York, NY</td>\n",
       "      <td>Nonprofit Organization</td>\n",
       "      <td>Insurance Carriers</td>\n",
       "      <td>1001 to 5000 employees</td>\n",
       "      <td>Insurance</td>\n",
       "      <td>27</td>\n",
       "      <td>YES</td>\n",
       "    </tr>\n",
       "    <tr>\n",
       "      <th>1</th>\n",
       "      <td>Data Scientist</td>\n",
       "      <td>4.2</td>\n",
       "      <td>ManTech</td>\n",
       "      <td>Chantilly, VA</td>\n",
       "      <td>Herndon, VA</td>\n",
       "      <td>Company - Public</td>\n",
       "      <td>Research &amp; Development</td>\n",
       "      <td>5001 to 10000 employees</td>\n",
       "      <td>Business Services</td>\n",
       "      <td>52</td>\n",
       "      <td>NO</td>\n",
       "    </tr>\n",
       "    <tr>\n",
       "      <th>2</th>\n",
       "      <td>Data Scientist</td>\n",
       "      <td>3.8</td>\n",
       "      <td>Analysis Group</td>\n",
       "      <td>Boston, MA</td>\n",
       "      <td>Boston, MA</td>\n",
       "      <td>Private Practice / Firm</td>\n",
       "      <td>Consulting</td>\n",
       "      <td>1001 to 5000 employees</td>\n",
       "      <td>Business Services</td>\n",
       "      <td>39</td>\n",
       "      <td>YES</td>\n",
       "    </tr>\n",
       "    <tr>\n",
       "      <th>3</th>\n",
       "      <td>Data Scientist</td>\n",
       "      <td>3.5</td>\n",
       "      <td>INFICON</td>\n",
       "      <td>Newton, MA</td>\n",
       "      <td>Bad Ragaz, Switzerland</td>\n",
       "      <td>Company - Public</td>\n",
       "      <td>Electrical &amp; Electronic Manufacturing</td>\n",
       "      <td>501 to 1000 employees</td>\n",
       "      <td>Manufacturing</td>\n",
       "      <td>20</td>\n",
       "      <td>NO</td>\n",
       "    </tr>\n",
       "    <tr>\n",
       "      <th>4</th>\n",
       "      <td>Data Scientist</td>\n",
       "      <td>2.9</td>\n",
       "      <td>Affinity Solutions</td>\n",
       "      <td>New York, NY</td>\n",
       "      <td>New York, NY</td>\n",
       "      <td>Company - Private</td>\n",
       "      <td>Advertising &amp; Marketing</td>\n",
       "      <td>51 to 200 employees</td>\n",
       "      <td>Business Services</td>\n",
       "      <td>22</td>\n",
       "      <td>YES</td>\n",
       "    </tr>\n",
       "  </tbody>\n",
       "</table>\n",
       "</div>"
      ],
      "text/plain": [
       "           job_title  rating        company_name       location  \\\n",
       "0  Sr Data Scientist     3.1         Healthfirst   New York, NY   \n",
       "1     Data Scientist     4.2             ManTech  Chantilly, VA   \n",
       "2     Data Scientist     3.8      Analysis Group     Boston, MA   \n",
       "3     Data Scientist     3.5             INFICON     Newton, MA   \n",
       "4     Data Scientist     2.9  Affinity Solutions   New York, NY   \n",
       "\n",
       "             headquarters        type_of_ownership  \\\n",
       "0            New York, NY   Nonprofit Organization   \n",
       "1             Herndon, VA         Company - Public   \n",
       "2              Boston, MA  Private Practice / Firm   \n",
       "3  Bad Ragaz, Switzerland         Company - Public   \n",
       "4            New York, NY        Company - Private   \n",
       "\n",
       "                                industry                     size  \\\n",
       "0                     Insurance Carriers   1001 to 5000 employees   \n",
       "1                 Research & Development  5001 to 10000 employees   \n",
       "2                             Consulting   1001 to 5000 employees   \n",
       "3  Electrical & Electronic Manufacturing    501 to 1000 employees   \n",
       "4                Advertising & Marketing      51 to 200 employees   \n",
       "\n",
       "              sector  company_age sponsorship  \n",
       "0          Insurance           27         YES  \n",
       "1  Business Services           52          NO  \n",
       "2  Business Services           39         YES  \n",
       "3      Manufacturing           20          NO  \n",
       "4  Business Services           22         YES  "
      ]
     },
     "execution_count": 197,
     "metadata": {},
     "output_type": "execute_result"
    }
   ],
   "source": [
    "output.head()"
   ]
  },
  {
   "cell_type": "code",
   "execution_count": 198,
   "id": "1303d0c1",
   "metadata": {
    "ExecuteTime": {
     "end_time": "2023-12-12T07:54:22.759789Z",
     "start_time": "2023-12-12T07:54:22.745966Z"
    }
   },
   "outputs": [],
   "source": [
    "output.to_csv('test.csv', index=False)"
   ]
  },
  {
   "cell_type": "code",
   "execution_count": null,
   "id": "f59a7acd",
   "metadata": {},
   "outputs": [],
   "source": [
    "# Use posgresql\n"
   ]
  },
  {
   "cell_type": "markdown",
   "id": "f0fe9645",
   "metadata": {},
   "source": [
    "# Neo4j - Import and Set up "
   ]
  },
  {
   "cell_type": "code",
   "execution_count": 220,
   "id": "3b677848",
   "metadata": {
    "ExecuteTime": {
     "end_time": "2023-12-12T17:58:45.769889Z",
     "start_time": "2023-12-12T17:58:45.761022Z"
    }
   },
   "outputs": [],
   "source": [
    "def show_result(query):\n",
    "    result = session.run(query)\n",
    "    print(result.data())\n",
    "    \n",
    "\n",
    "def show_table_result(query, session):\n",
    "    result = session.run(query)\n",
    "    df = pd.DataFrame([record.values() for record in result], columns=result.keys())\n",
    "    return df"
   ]
  },
  {
   "cell_type": "code",
   "execution_count": 217,
   "id": "61707676",
   "metadata": {
    "ExecuteTime": {
     "end_time": "2023-12-12T17:57:25.498422Z",
     "start_time": "2023-12-12T17:57:25.490663Z"
    }
   },
   "outputs": [],
   "source": [
    "def load_data(driver, row):\n",
    "    with driver.session() as session:\n",
    "        session.write_transaction(_create_and_link, row)\n",
    "\n",
    "def _create_and_link(tx, row):\n",
    "    query = \"\"\"\n",
    "        MERGE (company:Company {name: $company_name})\n",
    "        MERGE (sponsorship:Sponsorship {name: $sponsorship})\n",
    "        MERGE (location:Location {name: $location})\n",
    "        MERGE (job:JobTitle {name: $job_title, companyName: $company_name})\n",
    "        MERGE (headquarters:Headquarters {name: $headquarters})\n",
    "        MERGE (industryCompany:IndustryCompany {name: $industry})\n",
    "        MERGE (rate:Rate {name: $rating})\n",
    "        MERGE (ownership:Ownership {name: $type_of_ownership})\n",
    "        MERGE (size:Size {name: $size})\n",
    "\n",
    "        // Create relationships\n",
    "        WITH company, job, sponsorship, location, headquarters, industryCompany, rate, ownership, size\n",
    "        MERGE (company)-[:OFFERS]->(job)\n",
    "        MERGE (company)-[:HAS_SPONSORSHIP]->(sponsorship)\n",
    "        MERGE (job)-[:IN_LOCATION]->(location)\n",
    "        MERGE (company)-[:LOCATED_AT]->(headquarters)\n",
    "        MERGE (company)-[:WORKS_IN_INDUSTRY]->(industryCompany)\n",
    "        MERGE (company)-[:HAS_RATE]->(rate)\n",
    "        MERGE (company)-[:HAS_OWNERSHIP]->(ownership)\n",
    "\n",
    "        // Additional relationships based on location and headquarters being the same, and job size\n",
    "        WITH job, location, company, headquarters, size\n",
    "        WHERE location.name = headquarters.name\n",
    "        MERGE (job)-[:LOCATED_AT_HEADQUARTERS]->(headquarters)\n",
    "        WITH job, size\n",
    "        MERGE (job)-[:HAS_SIZE]->(size)\n",
    "    \"\"\"\n",
    "    tx.run(query, row)"
   ]
  },
  {
   "cell_type": "code",
   "execution_count": 218,
   "id": "25620564",
   "metadata": {
    "ExecuteTime": {
     "end_time": "2023-12-12T17:57:32.080275Z",
     "start_time": "2023-12-12T17:57:26.800622Z"
    }
   },
   "outputs": [],
   "source": [
    "for index, row in output.iterrows():\n",
    "    load_data(driver, row.to_dict())"
   ]
  },
  {
   "cell_type": "code",
   "execution_count": 225,
   "id": "f46909fd",
   "metadata": {
    "ExecuteTime": {
     "end_time": "2023-12-12T18:00:41.461403Z",
     "start_time": "2023-12-12T18:00:41.424062Z"
    }
   },
   "outputs": [
    {
     "data": {
      "text/html": [
       "<div>\n",
       "<style scoped>\n",
       "    .dataframe tbody tr th:only-of-type {\n",
       "        vertical-align: middle;\n",
       "    }\n",
       "\n",
       "    .dataframe tbody tr th {\n",
       "        vertical-align: top;\n",
       "    }\n",
       "\n",
       "    .dataframe thead th {\n",
       "        text-align: right;\n",
       "    }\n",
       "</style>\n",
       "<table border=\"1\" class=\"dataframe\">\n",
       "  <thead>\n",
       "    <tr style=\"text-align: right;\">\n",
       "      <th></th>\n",
       "      <th>job.name</th>\n",
       "      <th>company.name</th>\n",
       "      <th>rate.name</th>\n",
       "      <th>location.name</th>\n",
       "    </tr>\n",
       "  </thead>\n",
       "  <tbody>\n",
       "    <tr>\n",
       "      <th>0</th>\n",
       "      <td>Manager / Lead, Data Science &amp; Analytics</td>\n",
       "      <td>ABIOMED</td>\n",
       "      <td>4.1</td>\n",
       "      <td>Danvers, MA</td>\n",
       "    </tr>\n",
       "    <tr>\n",
       "      <th>1</th>\n",
       "      <td>Manager / Lead, Data Science &amp; Analytics</td>\n",
       "      <td>ABIOMED</td>\n",
       "      <td>4.1</td>\n",
       "      <td>Danvers, MA</td>\n",
       "    </tr>\n",
       "    <tr>\n",
       "      <th>2</th>\n",
       "      <td>Data Scientist</td>\n",
       "      <td>Klaviyo</td>\n",
       "      <td>4.8</td>\n",
       "      <td>Boston, MA</td>\n",
       "    </tr>\n",
       "    <tr>\n",
       "      <th>3</th>\n",
       "      <td>Data Science Software Engineer</td>\n",
       "      <td>Klaviyo</td>\n",
       "      <td>4.8</td>\n",
       "      <td>Boston, MA</td>\n",
       "    </tr>\n",
       "    <tr>\n",
       "      <th>4</th>\n",
       "      <td>Machine Learning Engineer</td>\n",
       "      <td>Klaviyo</td>\n",
       "      <td>4.8</td>\n",
       "      <td>Boston, MA</td>\n",
       "    </tr>\n",
       "    <tr>\n",
       "      <th>...</th>\n",
       "      <td>...</td>\n",
       "      <td>...</td>\n",
       "      <td>...</td>\n",
       "      <td>...</td>\n",
       "    </tr>\n",
       "    <tr>\n",
       "      <th>61</th>\n",
       "      <td>Vice President, Biometrics and Clinical Data M...</td>\n",
       "      <td>Alector</td>\n",
       "      <td>4.8</td>\n",
       "      <td>South San Francisco, CA</td>\n",
       "    </tr>\n",
       "    <tr>\n",
       "      <th>62</th>\n",
       "      <td>Data Scientist</td>\n",
       "      <td>Maven Wave Partners</td>\n",
       "      <td>4.5</td>\n",
       "      <td>Chicago, IL</td>\n",
       "    </tr>\n",
       "    <tr>\n",
       "      <th>63</th>\n",
       "      <td>Data Scientist</td>\n",
       "      <td>Maven Wave Partners</td>\n",
       "      <td>4.5</td>\n",
       "      <td>Chicago, IL</td>\n",
       "    </tr>\n",
       "    <tr>\n",
       "      <th>64</th>\n",
       "      <td>Data Scientist</td>\n",
       "      <td>Demandbase</td>\n",
       "      <td>4.5</td>\n",
       "      <td>San Francisco, CA</td>\n",
       "    </tr>\n",
       "    <tr>\n",
       "      <th>65</th>\n",
       "      <td>Data Scientist</td>\n",
       "      <td>Demandbase</td>\n",
       "      <td>4.5</td>\n",
       "      <td>San Francisco, CA</td>\n",
       "    </tr>\n",
       "  </tbody>\n",
       "</table>\n",
       "<p>66 rows × 4 columns</p>\n",
       "</div>"
      ],
      "text/plain": [
       "                                             job.name         company.name  \\\n",
       "0            Manager / Lead, Data Science & Analytics              ABIOMED   \n",
       "1            Manager / Lead, Data Science & Analytics              ABIOMED   \n",
       "2                                      Data Scientist              Klaviyo   \n",
       "3                      Data Science Software Engineer              Klaviyo   \n",
       "4                           Machine Learning Engineer              Klaviyo   \n",
       "..                                                ...                  ...   \n",
       "61  Vice President, Biometrics and Clinical Data M...              Alector   \n",
       "62                                     Data Scientist  Maven Wave Partners   \n",
       "63                                     Data Scientist  Maven Wave Partners   \n",
       "64                                     Data Scientist           Demandbase   \n",
       "65                                     Data Scientist           Demandbase   \n",
       "\n",
       "   rate.name            location.name  \n",
       "0        4.1              Danvers, MA  \n",
       "1        4.1              Danvers, MA  \n",
       "2        4.8               Boston, MA  \n",
       "3        4.8               Boston, MA  \n",
       "4        4.8               Boston, MA  \n",
       "..       ...                      ...  \n",
       "61       4.8  South San Francisco, CA  \n",
       "62       4.5              Chicago, IL  \n",
       "63       4.5              Chicago, IL  \n",
       "64       4.5        San Francisco, CA  \n",
       "65       4.5        San Francisco, CA  \n",
       "\n",
       "[66 rows x 4 columns]"
      ]
     },
     "execution_count": 225,
     "metadata": {},
     "output_type": "execute_result"
    }
   ],
   "source": [
    "query = \"\"\"\n",
    "        MATCH (job:JobTitle)-[:IN_LOCATION]->(location:Location),\n",
    "        (job)-[:LOCATED_AT_HEADQUARTERS]->(headquarters:Headquarters),\n",
    "        (company:Company)-[:OFFERS]->(job),\n",
    "        (company)-[:HAS_RATE]->(rate:Rate),\n",
    "        (company)-[:HAS_SPONSORSHIP]->(sponsorship:Sponsorship)\n",
    "        WHERE location.name = headquarters.name AND toFloat(rate.name) > 4 AND sponsorship.name = 'YES'\n",
    "        RETURN job.name, company.name, rate.name, location.name\n",
    "        \"\"\"\n",
    "\n",
    "show_table_result(query, session)"
   ]
  },
  {
   "cell_type": "code",
   "execution_count": 230,
   "id": "642a9bad",
   "metadata": {
    "ExecuteTime": {
     "end_time": "2023-12-12T18:08:31.206913Z",
     "start_time": "2023-12-12T18:08:31.195507Z"
    }
   },
   "outputs": [],
   "source": [
    "driver.close()"
   ]
  }
 ],
 "metadata": {
  "kernelspec": {
   "display_name": "Python 3.8.13",
   "language": "python",
   "name": "python38"
  },
  "language_info": {
   "codemirror_mode": {
    "name": "ipython",
    "version": 3
   },
   "file_extension": ".py",
   "mimetype": "text/x-python",
   "name": "python",
   "nbconvert_exporter": "python",
   "pygments_lexer": "ipython3",
   "version": "3.8.13"
  },
  "toc": {
   "base_numbering": 1,
   "nav_menu": {},
   "number_sections": false,
   "sideBar": true,
   "skip_h1_title": true,
   "title_cell": "Table of Contents",
   "title_sidebar": "Contents",
   "toc_cell": false,
   "toc_position": {},
   "toc_section_display": true,
   "toc_window_display": false
  },
  "varInspector": {
   "cols": {
    "lenName": 16,
    "lenType": 16,
    "lenVar": 40
   },
   "kernels_config": {
    "python": {
     "delete_cmd_postfix": "",
     "delete_cmd_prefix": "del ",
     "library": "var_list.py",
     "varRefreshCmd": "print(var_dic_list())"
    },
    "r": {
     "delete_cmd_postfix": ") ",
     "delete_cmd_prefix": "rm(",
     "library": "var_list.r",
     "varRefreshCmd": "cat(var_dic_list()) "
    }
   },
   "types_to_exclude": [
    "module",
    "function",
    "builtin_function_or_method",
    "instance",
    "_Feature"
   ],
   "window_display": false
  }
 },
 "nbformat": 4,
 "nbformat_minor": 5
}
